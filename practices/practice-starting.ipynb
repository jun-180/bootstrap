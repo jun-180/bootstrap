{
  "cells": [
    {
      "cell_type": "markdown",
      "metadata": {
        "id": "sPe76kccE4jF"
      },
      "source": [
        "# (연습) 프로그래밍 맛보기"
      ]
    },
    {
      "cell_type": "markdown",
      "metadata": {
        "id": "MgBCG_zE0A9f"
      },
      "source": [
        "**주의 사항**\n",
        "\n",
        "* 기존에 작성된 코드 셀과 텍스트 셀은 수정하지 않는다.\n",
        "* 필요한 경우 코드 셀 또는 텍스트 셀을 추가해서 사용한다.\n",
        "* 실습 파일을 제출할 때 구글 드라이브의 링크를 이용하여 누구나 공유할 수 있도록 설정한다."
      ]
    },
    {
      "cell_type": "markdown",
      "metadata": {
        "id": "SBRS-mdlE4jJ"
      },
      "source": [
        "**문제 1**"
      ]
    },
    {
      "cell_type": "markdown",
      "metadata": {
        "id": "b6Q471mzE4jK"
      },
      "source": [
        "아래 명령문들을 실행해서 오류가 발생하는 경우 오류의 종류와 원인을 설명하고 수정하라.\n",
        "오류가 발생하지 않으면 실행 결과를 설명한다."
      ]
    },
    {
      "cell_type": "markdown",
      "metadata": {
        "id": "l72MmEYSE4jK"
      },
      "source": [
        "(1)"
      ]
    },
    {
      "cell_type": "code",
      "execution_count": null,
      "metadata": {
        "id": "VQ3dIwMXE4jL"
      },
      "outputs": [],
      "source": [
        "print(\"Hello World)"
      ]
    },
    {
      "cell_type": "code",
      "execution_count": null,
      "metadata": {
        "id": "7JTpg1IpE4jM"
      },
      "outputs": [],
      "source": [
        "# 코드를 작성한다.\n"
      ]
    },
    {
      "cell_type": "markdown",
      "metadata": {
        "id": "ZzTiT4OyE4jM"
      },
      "source": [
        "(2)"
      ]
    },
    {
      "cell_type": "code",
      "execution_count": null,
      "metadata": {
        "id": "CpIU_ZeSE4jM"
      },
      "outputs": [],
      "source": [
        "print(21 8)"
      ]
    },
    {
      "cell_type": "code",
      "execution_count": null,
      "metadata": {
        "id": "DsDoLyNzE4jN"
      },
      "outputs": [],
      "source": [
        "# 코드를 작성한다.\n"
      ]
    },
    {
      "cell_type": "markdown",
      "metadata": {
        "id": "rVlRO8TgE4jN"
      },
      "source": [
        "(3)"
      ]
    },
    {
      "cell_type": "code",
      "execution_count": null,
      "metadata": {
        "id": "szaT7fhsE4jN"
      },
      "outputs": [],
      "source": [
        "print(2++2)"
      ]
    },
    {
      "cell_type": "code",
      "execution_count": null,
      "metadata": {
        "id": "0p95yS61E4jN"
      },
      "outputs": [],
      "source": [
        "# 코드를 작성한다.\n"
      ]
    },
    {
      "cell_type": "markdown",
      "metadata": {
        "id": "y-_5ibpZE4jN"
      },
      "source": [
        "**문제 2**"
      ]
    },
    {
      "cell_type": "markdown",
      "metadata": {
        "id": "HcEk6VpNE4jN"
      },
      "source": [
        "변수 할당 명령문과 관련하여 주의해야할 점들을 다룬다. 아래 명령문들을 실행해서 오류가 발생하는 경우 오류의 종류와 원인을 설명하고 수정한다."
      ]
    },
    {
      "cell_type": "markdown",
      "metadata": {
        "id": "eoyXflVrE4jO"
      },
      "source": [
        "(1)"
      ]
    },
    {
      "cell_type": "code",
      "execution_count": null,
      "metadata": {
        "id": "MzWQNUZxE4jO"
      },
      "outputs": [],
      "source": [
        "x = 2;"
      ]
    },
    {
      "cell_type": "code",
      "execution_count": null,
      "metadata": {
        "id": "dFylCrL6E4jO"
      },
      "outputs": [],
      "source": [
        "# 코드를 작성한다.\n"
      ]
    },
    {
      "cell_type": "markdown",
      "metadata": {
        "id": "wNZaxdhtE4jO"
      },
      "source": [
        "(2)"
      ]
    },
    {
      "cell_type": "code",
      "execution_count": null,
      "metadata": {
        "id": "v_DumRd7E4jO"
      },
      "outputs": [],
      "source": [
        "z = x y"
      ]
    },
    {
      "cell_type": "code",
      "execution_count": null,
      "metadata": {
        "id": "V2dyu4FkE4jO"
      },
      "outputs": [],
      "source": [
        "# 코드를 작성한다.\n"
      ]
    },
    {
      "cell_type": "markdown",
      "metadata": {
        "id": "kgjZ8ZH7E4jO"
      },
      "source": [
        "(3)"
      ]
    },
    {
      "cell_type": "code",
      "execution_count": null,
      "metadata": {
        "id": "w9-izPdxE4jP"
      },
      "outputs": [],
      "source": [
        "even = 3\n",
        "odd = 17\n",
        "print(even + oddd)"
      ]
    },
    {
      "cell_type": "code",
      "execution_count": null,
      "metadata": {
        "id": "0p1BpmM2E4jP"
      },
      "outputs": [],
      "source": [
        "# 코드를 작성한다.\n"
      ]
    },
    {
      "cell_type": "markdown",
      "metadata": {
        "id": "2uoL-peKE4jP"
      },
      "source": [
        "(4)"
      ]
    },
    {
      "cell_type": "code",
      "execution_count": null,
      "metadata": {
        "id": "XiYjgQaAE4jP"
      },
      "outputs": [],
      "source": [
        "x = 3\n",
        "zero = 0\n",
        "\n",
        "print(x/zero)"
      ]
    },
    {
      "cell_type": "code",
      "execution_count": null,
      "metadata": {
        "id": "3fTun7ztE4jP"
      },
      "outputs": [],
      "source": [
        "# 코드를 작성한다.\n"
      ]
    },
    {
      "cell_type": "markdown",
      "metadata": {
        "id": "3ASZsKNJE4jP"
      },
      "source": [
        "**문제 3**"
      ]
    },
    {
      "cell_type": "markdown",
      "metadata": {
        "id": "45pQ2d_SE4jP"
      },
      "source": [
        "언급된 값을 표현하는 수식을 표현한 다음에 실행하라."
      ]
    },
    {
      "cell_type": "markdown",
      "metadata": {
        "id": "9BMSNMY-E4jP"
      },
      "source": [
        "(1) 정수 13에서 정수 19 빼기"
      ]
    },
    {
      "cell_type": "markdown",
      "metadata": {
        "id": "OzO9BUV_E4jQ"
      },
      "source": [
        "힌트: 뺄셈 연산자를 활용한다."
      ]
    },
    {
      "cell_type": "code",
      "execution_count": null,
      "metadata": {
        "id": "P910xSCxE4jQ"
      },
      "outputs": [],
      "source": [
        "# 코드를 작성한다.\n"
      ]
    },
    {
      "cell_type": "markdown",
      "metadata": {
        "id": "s3JmZMLJE4jQ"
      },
      "source": [
        "(2) 정수 81을 정수 3으로 나누기"
      ]
    },
    {
      "cell_type": "markdown",
      "metadata": {
        "id": "lK2EsyPBE4jQ"
      },
      "source": [
        "힌트: 나눗셈 연산자를 활용한다."
      ]
    },
    {
      "cell_type": "code",
      "execution_count": null,
      "metadata": {
        "id": "QpCz7D69E4jQ"
      },
      "outputs": [],
      "source": [
        "# 코드를 작성한다.\n"
      ]
    },
    {
      "cell_type": "markdown",
      "metadata": {
        "id": "FFBlnSV8E4jQ"
      },
      "source": [
        "(3) 정수 100을 정수 7로 나눈 나머지"
      ]
    },
    {
      "cell_type": "markdown",
      "metadata": {
        "id": "2dHkG5SpE4jQ"
      },
      "source": [
        "힌트: 나머지 연산자를 활용한다."
      ]
    },
    {
      "cell_type": "code",
      "execution_count": null,
      "metadata": {
        "id": "1zCPSO0HE4jQ"
      },
      "outputs": [],
      "source": [
        "# 코드를 작성한다.\n"
      ]
    },
    {
      "cell_type": "markdown",
      "metadata": {
        "id": "YOAVj-gjE4jQ"
      },
      "source": [
        "(4) 정수 7.2의 세제곱"
      ]
    },
    {
      "cell_type": "markdown",
      "metadata": {
        "id": "HbdKJ5yuE4jR"
      },
      "source": [
        "힌트: 거듭제곱 연산자를 활용한다."
      ]
    },
    {
      "cell_type": "code",
      "execution_count": null,
      "metadata": {
        "id": "0MOYRUeTE4jR"
      },
      "outputs": [],
      "source": [
        "# 코드를 작성한다.\n"
      ]
    },
    {
      "cell_type": "markdown",
      "metadata": {
        "id": "FFZCEpJzE4jR"
      },
      "source": [
        "**문제 4**"
      ]
    },
    {
      "cell_type": "markdown",
      "metadata": {
        "id": "c6oKxR--E4jR"
      },
      "source": [
        "먼저 아래와 같이 두 개의 변수를 선언한다."
      ]
    },
    {
      "cell_type": "code",
      "execution_count": null,
      "metadata": {
        "id": "Zr7wOdgBE4jR"
      },
      "outputs": [],
      "source": [
        "width = 17\n",
        "height = 12.0"
      ]
    },
    {
      "cell_type": "markdown",
      "metadata": {
        "id": "YZnepkU0E4jR"
      },
      "source": [
        "언급된 값을 표현하는 수식을 두 변수를 이용하여 표현한 다음에 실행하여라."
      ]
    },
    {
      "cell_type": "markdown",
      "metadata": {
        "id": "AewxYSd0E4jS"
      },
      "source": [
        "(1) width를 2로 나눗 몫"
      ]
    },
    {
      "cell_type": "code",
      "execution_count": null,
      "metadata": {
        "id": "NCZZjHqwE4jS"
      },
      "outputs": [],
      "source": [
        "# 코드를 작성한다.\n"
      ]
    },
    {
      "cell_type": "markdown",
      "metadata": {
        "id": "0j3qVxwyE4jS"
      },
      "source": [
        "(2) width 나누기 2"
      ]
    },
    {
      "cell_type": "code",
      "execution_count": null,
      "metadata": {
        "id": "aW7m4Gr0E4jS"
      },
      "outputs": [],
      "source": [
        "# 코드를 작성한다.\n"
      ]
    },
    {
      "cell_type": "markdown",
      "metadata": {
        "id": "fH2fOUExE4jS"
      },
      "source": [
        "(3) width 나누기 2.0"
      ]
    },
    {
      "cell_type": "code",
      "execution_count": null,
      "metadata": {
        "id": "V1mQrH1KE4jS"
      },
      "outputs": [],
      "source": [
        "# 코드를 작성한다.\n"
      ]
    },
    {
      "cell_type": "markdown",
      "metadata": {
        "id": "RjUuxbdzE4jS"
      },
      "source": [
        "(4) height 나누기 3"
      ]
    },
    {
      "cell_type": "code",
      "execution_count": null,
      "metadata": {
        "id": "imAOb5G-E4jS"
      },
      "outputs": [],
      "source": [
        "# 코드를 작성한다.\n"
      ]
    },
    {
      "cell_type": "markdown",
      "metadata": {
        "id": "evyqpeFME4jT"
      },
      "source": [
        "(5) 2 곱하기 5에 1 더하기"
      ]
    },
    {
      "cell_type": "code",
      "execution_count": null,
      "metadata": {
        "id": "OOx4qGv5E4jT"
      },
      "outputs": [],
      "source": [
        "# 코드를 작성한다.\n"
      ]
    },
    {
      "cell_type": "markdown",
      "metadata": {
        "id": "tbaZ_WnFE4jT"
      },
      "source": [
        "(6) 2 곱하기 5에 1.0 더하기"
      ]
    },
    {
      "cell_type": "code",
      "execution_count": null,
      "metadata": {
        "id": "GRTNW84IE4jT"
      },
      "outputs": [],
      "source": [
        "# 코드를 작성한다.\n"
      ]
    },
    {
      "cell_type": "markdown",
      "metadata": {
        "id": "nnKxl4DJE4jT"
      },
      "source": [
        "**문제 5**"
      ]
    },
    {
      "cell_type": "markdown",
      "metadata": {
        "id": "xxF_Pp9EE4jT"
      },
      "source": [
        "오전 6시 52분에 집을 떠나서, 가볍게 (km당 8분 15초 소요) 1km를 뛰고,\n",
        "이어서 좀 빠르게 (km당 7분 12초 소요) 3km를 뛴 후, 다시 가볍게 1km를 마저 달려 집으로 돌아오면\n",
        "집에 도착하는 시간을 계산하여 아래처럼 출력하는 코드를 작성하라.\n",
        "\n",
        "    집에 도착 시간: 7 시 30 분 6 초\n",
        "\n",
        "힌트: 정수 나눗셈의 몫과 나머지 연산자 활용"
      ]
    },
    {
      "cell_type": "code",
      "execution_count": null,
      "metadata": {
        "id": "EzoaX0NSE4jU"
      },
      "outputs": [],
      "source": [
        "# 코드를 작성한다.\n"
      ]
    }
  ],
  "metadata": {
    "colab": {
      "name": "practice-starting.ipynb",
      "provenance": []
    },
    "kernelspec": {
      "display_name": "Python 3 (ipykernel)",
      "language": "python",
      "name": "python3"
    },
    "language_info": {
      "codemirror_mode": {
        "name": "ipython",
        "version": 3
      },
      "file_extension": ".py",
      "mimetype": "text/x-python",
      "name": "python",
      "nbconvert_exporter": "python",
      "pygments_lexer": "ipython3",
      "version": "3.12.7"
    }
  },
  "nbformat": 4,
  "nbformat_minor": 0
}